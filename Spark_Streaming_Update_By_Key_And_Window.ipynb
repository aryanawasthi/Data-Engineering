{
 "cells": [
  {
   "cell_type": "code",
   "execution_count": 1,
   "id": "a9bfd38f",
   "metadata": {},
   "outputs": [
    {
     "ename": "Compile Error",
     "evalue": "<console>:12: error: illegal start of simple expression\nval word_count=pairs.reduceByKeyAndWindow((x,y)=>x+y,(x,y)=>x-y,Seconds(8),Seconds(4)).filter(x=)\n                                                                                                ^\n",
     "output_type": "error",
     "traceback": []
    }
   ],
   "source": [
    "import org.apache.spark.SparkContext \n",
    "import org.apache.spark._ \n",
    "import org.apache.spark.streaming._ \n",
    "import org.apache.spark.streaming.StreamingContext._ \n",
    "val sc=new SparkContext(\"local[2]\",\"wordcount\")\n",
    "\n",
    "val ssc=new StreamingContext(sc,Seconds(4)) \n",
    "val lines=ssc.socketTextStream(\"localhost\",8988)\n",
    "ssc.checkpoint(\".\") \n",
    "val words=lines.flatMap(x=>x.split(\" \")) \n",
    "val pairs=words.map(x=>(x,1)) \n",
    "val word_count=pairs.reduceByKeyAndWindow((x,y)=>x+y,(x,y)=>x-y,Seconds(8),Seconds(4)).filter(x=>x._)\n",
    "word_count.print() \n",
    "ssc.start() \n",
    "ssc.awaitTermination()"
   ]
  },
  {
   "cell_type": "code",
   "execution_count": null,
   "id": "ba7de360",
   "metadata": {},
   "outputs": [],
   "source": []
  }
 ],
 "metadata": {
  "kernelspec": {
   "display_name": "Spark 2 - Scala",
   "language": "scala",
   "name": "spark_2_scala"
  },
  "language_info": {
   "codemirror_mode": "text/x-scala",
   "file_extension": ".scala",
   "mimetype": "text/x-scala",
   "name": "scala",
   "pygments_lexer": "scala",
   "version": "2.11.12"
  }
 },
 "nbformat": 4,
 "nbformat_minor": 5
}
