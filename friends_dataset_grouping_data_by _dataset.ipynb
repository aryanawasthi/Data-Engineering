{
 "cells": [
  {
   "cell_type": "code",
   "execution_count": 1,
   "id": "762039e0",
   "metadata": {},
   "outputs": [
    {
     "data": {
      "text/plain": [
       "Waiting for a Spark session to start..."
      ]
     },
     "metadata": {},
     "output_type": "display_data",
     "source": "user"
    },
    {
     "data": {
      "text/plain": [
       "data = user_5 MapPartitionsRDD[1] at textFile at <console>:27\n"
      ]
     },
     "metadata": {},
     "output_type": "display_data",
     "source": "user"
    },
    {
     "data": {
      "text/plain": [
       "user_5 MapPartitionsRDD[1] at textFile at <console>:27"
      ]
     },
     "execution_count": 1,
     "metadata": {},
     "output_type": "execute_result"
    }
   ],
   "source": [
    "var data=sc.textFile(\"user_5\")"
   ]
  },
  {
   "cell_type": "code",
   "execution_count": 2,
   "id": "88fe6817",
   "metadata": {},
   "outputs": [
    {
     "data": {
      "text/plain": [
       "Array(0::Will::33::385, 1::Jean-Luc::26::2, 2::Hugh::55::221, 3::Deanna::40::465, 4::Quark::68::21, 5::Weyoun::59::318, 6::Gowron::37::220, 7::Will::54::307, 8::Jadzia::38::380, 9::Hugh::27::181, 10::Odo::53::191, 11::Ben::57::372, 12::Keiko::54::253, 13::Jean-Luc::56::444, 14::Hugh::43::49, 15::Rom::36::49, 16::Weyoun::22::323, 17::Odo::35::13, 18::Jean-Luc::45::455, 19::Geordi::60::246, 20::Odo::67::220, 21::Miles::19::268, 22::Quark::30::72, 23::Keiko::51::271, 24::Julian::25::1, 25::Ben::21::445, 26::Julian::22::100, 27::Leeta::42::363, 28::Martok::49::476, 29::Nog::48::364, 30::Keiko::50::175, 31::Miles::39::161, 32::Nog::26::281, 33::Dukat::53::197, 34::Jean-Luc::43::249, 35::Beverly::27::305, 36::Kasidy::32::81, 37::Geordi::58::21, 38::Deanna::64::65, 39::Mo..."
      ]
     },
     "execution_count": 2,
     "metadata": {},
     "output_type": "execute_result"
    }
   ],
   "source": [
    "data.collect"
   ]
  },
  {
   "cell_type": "code",
   "execution_count": 5,
   "id": "b3ec1b63",
   "metadata": {},
   "outputs": [
    {
     "data": {
      "text/plain": [
       "parse_line: (line: String)(Int, Int)\n"
      ]
     },
     "metadata": {},
     "output_type": "display_data",
     "source": "user"
    }
   ],
   "source": [
    "def parse_line(line:String)={\n",
    "    var fields=line.split(\"::\")\n",
    "    var age=fields(2).toInt\n",
    "    var num_friends=fields(3).toInt\n",
    "    (age,num_friends)\n",
    "}"
   ]
  },
  {
   "cell_type": "code",
   "execution_count": 6,
   "id": "aeaa507e",
   "metadata": {},
   "outputs": [
    {
     "data": {
      "text/plain": [
       "form_data = MapPartitionsRDD[2] at map at <console>:30\n"
      ]
     },
     "metadata": {},
     "output_type": "display_data",
     "source": "user"
    },
    {
     "data": {
      "text/plain": [
       "MapPartitionsRDD[2] at map at <console>:30"
      ]
     },
     "execution_count": 6,
     "metadata": {},
     "output_type": "execute_result"
    }
   ],
   "source": [
    "// now we will use the predefined data function to get our reqyuired value as anaysis is only done for age and num_friend\n",
    "val form_data=data.map(parse_line)"
   ]
  },
  {
   "cell_type": "code",
   "execution_count": 7,
   "id": "f8154ce5",
   "metadata": {},
   "outputs": [
    {
     "data": {
      "text/plain": [
       "mapped_data = MapPartitionsRDD[3] at map at <console>:28\n"
      ]
     },
     "metadata": {},
     "output_type": "display_data",
     "source": "user"
    },
    {
     "data": {
      "text/plain": [
       "MapPartitionsRDD[3] at map at <console>:28"
      ]
     },
     "execution_count": 7,
     "metadata": {},
     "output_type": "execute_result"
    }
   ],
   "source": [
    "// now we have data in the form of tuple and we have to find the average value therfpore we will use the map to add the 1 with tuple\n",
    "val mapped_data=form_data.map(x=>(x._1,(x._2,1)))"
   ]
  },
  {
   "cell_type": "code",
   "execution_count": 13,
   "id": "5fc5b53c",
   "metadata": {},
   "outputs": [
    {
     "data": {
      "text/plain": [
       "final_data = ShuffledRDD[4] at reduceByKey at <console>:28\n"
      ]
     },
     "metadata": {},
     "output_type": "display_data",
     "source": "user"
    },
    {
     "data": {
      "text/plain": [
       "ShuffledRDD[4] at reduceByKey at <console>:28"
      ]
     },
     "execution_count": 13,
     "metadata": {},
     "output_type": "execute_result"
    }
   ],
   "source": [
    "//now we have data in the form of (23,(33,1)) and we have to convert this data into a format where we will use a reduceByKey to add all the instances and find the sum of no of friedns\n",
    "val final_data=mapped_data.reduceByKey((x,y)=>(x._1+y._1,x._2+y._2))"
   ]
  },
  {
   "cell_type": "code",
   "execution_count": 15,
   "id": "7c3bf65f",
   "metadata": {},
   "outputs": [
    {
     "data": {
      "text/plain": [
       "results = MapPartitionsRDD[5] at map at <console>:28\n"
      ]
     },
     "metadata": {},
     "output_type": "display_data",
     "source": "user"
    },
    {
     "data": {
      "text/plain": [
       "MapPartitionsRDD[5] at map at <console>:28"
      ]
     },
     "execution_count": 15,
     "metadata": {},
     "output_type": "execute_result"
    }
   ],
   "source": [
    "//now we have data in the form of (34,(1473,6)) and we have to find the average and return only the age and that value which can be used \n",
    "val results=final_data.map(x=>(x._1,x._2._1/x._2._2))"
   ]
  },
  {
   "cell_type": "code",
   "execution_count": 21,
   "id": "c2d03a2c",
   "metadata": {},
   "outputs": [
    {
     "data": {
      "text/plain": [
       "sorted_data = MapPartitionsRDD[15] at sortBy at <console>:28\n"
      ]
     },
     "metadata": {},
     "output_type": "display_data",
     "source": "user"
    },
    {
     "data": {
      "text/plain": [
       "MapPartitionsRDD[15] at sortBy at <console>:28"
      ]
     },
     "execution_count": 21,
     "metadata": {},
     "output_type": "execute_result"
    }
   ],
   "source": [
    "// now we have data in the form of  4,245), (52,340), (56,306), (66,276), (22,206), (28,209), (54,278), (46,223), (48,281) and we can now also sort the dayta\n",
    "val sorted_data=results.sortBy(x=>x._1)"
   ]
  },
  {
   "cell_type": "code",
   "execution_count": 22,
   "id": "53469df8",
   "metadata": {},
   "outputs": [
    {
     "data": {
      "text/plain": [
       "Array((18,343), (19,213), (20,165), (21,350), (22,206), (23,246), (24,233), (25,197), (26,242), (27,228), (28,209), (29,215), (30,235), (31,267), (32,207), (33,325), (34,245), (35,211), (36,246), (37,249), (38,193), (39,169), (40,250), (41,268), (42,303), (43,230), (44,282), (45,309), (46,223), (47,233), (48,281), (49,184), (50,254), (51,302), (52,340), (53,222), (54,278), (55,295), (56,306), (57,258), (58,116), (59,220), (60,202), (61,256), (62,220), (63,384), (64,281), (65,298), (66,276), (67,214), (68,269), (69,235))"
      ]
     },
     "execution_count": 22,
     "metadata": {},
     "output_type": "execute_result"
    }
   ],
   "source": [
    "sorted_data.collect"
   ]
  },
  {
   "cell_type": "code",
   "execution_count": null,
   "id": "b0268ca1",
   "metadata": {},
   "outputs": [],
   "source": []
  }
 ],
 "metadata": {
  "kernelspec": {
   "display_name": "Spark 2 - Scala",
   "language": "scala",
   "name": "spark_2_scala"
  },
  "language_info": {
   "codemirror_mode": "text/x-scala",
   "file_extension": ".scala",
   "mimetype": "text/x-scala",
   "name": "scala",
   "pygments_lexer": "scala",
   "version": "2.11.12"
  }
 },
 "nbformat": 4,
 "nbformat_minor": 5
}
