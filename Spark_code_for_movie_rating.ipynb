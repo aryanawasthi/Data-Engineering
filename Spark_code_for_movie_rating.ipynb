{
 "cells": [
  {
   "cell_type": "code",
   "execution_count": 10,
   "id": "7335797c",
   "metadata": {},
   "outputs": [
    {
     "data": {
      "text/plain": [
       "Waiting for a Spark session to start..."
      ]
     },
     "metadata": {},
     "output_type": "display_data",
     "source": "user"
    },
    {
     "data": {
      "text/plain": [
       "data = user_4 MapPartitionsRDD[1] at textFile at <console>:28\n"
      ]
     },
     "metadata": {},
     "output_type": "display_data",
     "source": "user"
    },
    {
     "data": {
      "text/plain": [
       "lastException: Throwable = null\n"
      ]
     },
     "metadata": {},
     "output_type": "display_data",
     "source": "user"
    },
    {
     "data": {
      "text/plain": [
       "user_4 MapPartitionsRDD[1] at textFile at <console>:28"
      ]
     },
     "execution_count": 10,
     "metadata": {},
     "output_type": "execute_result"
    }
   ],
   "source": [
    "// data loaded into a file.\n",
    "var data=sc.textFile(\"user_4\")"
   ]
  },
  {
   "cell_type": "code",
   "execution_count": 11,
   "id": "d0c708d6",
   "metadata": {},
   "outputs": [
    {
     "data": {
      "text/plain": [
       "mapped_input = MapPartitionsRDD[2] at map at <console>:28\n"
      ]
     },
     "metadata": {},
     "output_type": "display_data",
     "source": "user"
    },
    {
     "data": {
      "text/plain": [
       "MapPartitionsRDD[2] at map at <console>:28"
      ]
     },
     "execution_count": 11,
     "metadata": {},
     "output_type": "execute_result"
    }
   ],
   "source": [
    "//as data has 4 column with spaces we are splitting the data into 4 columns.\n",
    "var mapped_input=data.map(x=>x.split(\"\\t\")(2))"
   ]
  },
  {
   "cell_type": "code",
   "execution_count": 12,
   "id": "145a23f4",
   "metadata": {},
   "outputs": [
    {
     "data": {
      "text/plain": [
       "tupled = MapPartitionsRDD[3] at map at <console>:28\n"
      ]
     },
     "metadata": {},
     "output_type": "display_data",
     "source": "user"
    },
    {
     "data": {
      "text/plain": [
       "MapPartitionsRDD[3] at map at <console>:28"
      ]
     },
     "execution_count": 12,
     "metadata": {},
     "output_type": "execute_result"
    }
   ],
   "source": [
    "//create  a tuple of the data so add a tuple key which can be added and  then total count can be used.\n",
    "val tupled=mapped_input.map(x=>(x,1))"
   ]
  },
  {
   "cell_type": "markdown",
   "id": "114a14e2",
   "metadata": {},
   "source": [
    "tupled.collect"
   ]
  },
  {
   "cell_type": "code",
   "execution_count": 13,
   "id": "96d4d119",
   "metadata": {},
   "outputs": [
    {
     "data": {
      "text/plain": [
       "Array((3,1), (3,1), (1,1), (2,1), (1,1), (4,1), (2,1), (5,1), (3,1), (3,1), (2,1), (5,1), (5,1), (3,1), (3,1), (3,1), (5,1), (2,1), (4,1), (2,1), (4,1), (4,1), (4,1), (2,1), (4,1), (2,1), (5,1), (2,1), (4,1), (5,1), (3,1), (4,1), (4,1), (4,1), (3,1), (4,1), (1,1), (5,1), (1,1), (4,1), (4,1), (4,1), (2,1), (3,1), (5,1), (5,1), (5,1), (5,1), (5,1), (3,1), (4,1), (2,1), (4,1), (5,1), (5,1), (2,1), (4,1), (5,1), (5,1), (4,1), (3,1), (1,1), (4,1), (3,1), (4,1), (5,1), (1,1), (5,1), (5,1), (4,1), (4,1), (3,1), (1,1), (3,1), (4,1), (2,1), (4,1), (3,1), (3,1), (5,1), (5,1), (3,1), (5,1), (3,1), (5,1), (4,1), (5,1), (3,1), (4,1), (4,1), (4,1), (4,1), (4,1), (5,1), (2,1), (5,1), (4,1), (3,1), (4,1), (4,1), (3,1), (5,1), (4,1), (3,1), (4,1), (5,1), (4,1), (5,1), (5,1)..."
      ]
     },
     "execution_count": 13,
     "metadata": {},
     "output_type": "execute_result"
    }
   ],
   "source": [
    "tupled.collect"
   ]
  },
  {
   "cell_type": "code",
   "execution_count": 14,
   "id": "6eac54b3",
   "metadata": {},
   "outputs": [
    {
     "data": {
      "text/plain": [
       "format_data = ShuffledRDD[4] at reduceByKey at <console>:28\n"
      ]
     },
     "metadata": {},
     "output_type": "display_data",
     "source": "user"
    },
    {
     "data": {
      "text/plain": [
       "ShuffledRDD[4] at reduceByKey at <console>:28"
      ]
     },
     "execution_count": 14,
     "metadata": {},
     "output_type": "execute_result"
    }
   ],
   "source": [
    "//reduce by key use to add all the strings\n",
    "val format_data=tupled.reduceByKey((x,y)=>x+y)"
   ]
  },
  {
   "cell_type": "code",
   "execution_count": 15,
   "id": "a8b51c0c",
   "metadata": {},
   "outputs": [
    {
     "data": {
      "text/plain": [
       "sorted_data = MapPartitionsRDD[9] at sortBy at <console>:27\n"
      ]
     },
     "metadata": {},
     "output_type": "display_data",
     "source": "user"
    },
    {
     "data": {
      "text/plain": [
       "MapPartitionsRDD[9] at sortBy at <console>:27"
      ]
     },
     "execution_count": 15,
     "metadata": {},
     "output_type": "execute_result"
    }
   ],
   "source": [
    "val sorted_data=format_data.sortBy(x=>x._2)"
   ]
  },
  {
   "cell_type": "code",
   "execution_count": 16,
   "id": "74c5a46a",
   "metadata": {},
   "outputs": [
    {
     "data": {
      "text/plain": [
       "Array((1,6110), (2,11370), (5,21201), (3,27145), (4,34174))"
      ]
     },
     "execution_count": 16,
     "metadata": {},
     "output_type": "execute_result"
    }
   ],
   "source": [
    "sorted_data.collect"
   ]
  },
  {
   "cell_type": "code",
   "execution_count": 17,
   "id": "091ca3d3",
   "metadata": {},
   "outputs": [
    {
     "ename": "Syntax Error.",
     "evalue": "",
     "output_type": "error",
     "traceback": []
    }
   ],
   "source": [
    "// we can also use count by value which is very helpful but it is not a transoformation but a action which happens to be i\n",
    "// all the data in local\n",
    "// which means after using this action all the data will be loaded in local no parallelism\n"
   ]
  },
  {
   "cell_type": "code",
   "execution_count": 18,
   "id": "4b31bb38",
   "metadata": {},
   "outputs": [
    {
     "data": {
      "text/plain": [
       "results = Map((4,1) -> 34174, (2,1) -> 11370, (5,1) -> 21201, (1,1) -> 6110, (3,1) -> 27145)\n"
      ]
     },
     "metadata": {},
     "output_type": "display_data",
     "source": "user"
    },
    {
     "data": {
      "text/plain": [
       "Map((4,1) -> 34174, (2,1) -> 11370, (5,1) -> 21201, (1,1) -> 6110, (3,1) -> 27145)"
      ]
     },
     "execution_count": 18,
     "metadata": {},
     "output_type": "execute_result"
    }
   ],
   "source": [
    "val results=tupled.countByValue\n",
    "// as we can see it is creaating a output directly"
   ]
  },
  {
   "cell_type": "code",
   "execution_count": 19,
   "id": "b5289147",
   "metadata": {},
   "outputs": [
    {
     "ename": "Unknown Error",
     "evalue": "<console>:28: error: missing argument list for method collect in trait TraversableLike\nUnapplied methods are only converted to functions when a function type is expected.\nYou can make this conversion explicit by writing `collect _` or `collect(_)(_)` instead of `collect`.\n       results.collect\n               ^\n",
     "output_type": "error",
     "traceback": []
    }
   ],
   "source": [
    "results.collect"
   ]
  },
  {
   "cell_type": "code",
   "execution_count": null,
   "id": "adae399b",
   "metadata": {},
   "outputs": [],
   "source": []
  }
 ],
 "metadata": {
  "kernelspec": {
   "display_name": "Spark 2 - Scala",
   "language": "scala",
   "name": "spark_2_scala"
  },
  "language_info": {
   "codemirror_mode": "text/x-scala",
   "file_extension": ".scala",
   "mimetype": "text/x-scala",
   "name": "scala",
   "pygments_lexer": "scala",
   "version": "2.11.12"
  }
 },
 "nbformat": 4,
 "nbformat_minor": 5
}
