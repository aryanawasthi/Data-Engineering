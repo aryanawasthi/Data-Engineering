{
 "cells": [
  {
   "cell_type": "code",
   "execution_count": 1,
   "id": "a8e21bf8",
   "metadata": {},
   "outputs": [
    {
     "data": {
      "text/plain": [
       "Waiting for a Spark session to start..."
      ]
     },
     "metadata": {},
     "output_type": "display_data",
     "source": "user"
    },
    {
     "data": {
      "text/plain": [
       "products = [order_id: int, order_date: timestamp ... 2 more fields]\n"
      ]
     },
     "metadata": {},
     "output_type": "display_data",
     "source": "user"
    },
    {
     "data": {
      "text/plain": [
       "[order_id: int, order_date: timestamp ... 2 more fields]"
      ]
     },
     "execution_count": 1,
     "metadata": {},
     "output_type": "execute_result"
    }
   ],
   "source": [
    "// loading the data in the spark as dataframe\n",
    "val products=spark.read.format(\"csv\").option(\"header\",true).option(\"inferSchema\",true).option(\"path\",\"orders\").load()"
   ]
  },
  {
   "cell_type": "code",
   "execution_count": 2,
   "id": "a920e604",
   "metadata": {},
   "outputs": [
    {
     "data": {
      "text/plain": [
       "Array([1,2013-07-25 00:00:00.0,11599,CLOSED], [2,2013-07-25 00:00:00.0,256,PENDING_PAYMENT], [3,2013-07-25 00:00:00.0,12111,COMPLETE], [4,2013-07-25 00:00:00.0,8827,CLOSED], [5,2013-07-25 00:00:00.0,11318,COMPLETE], [6,2013-07-25 00:00:00.0,7130,COMPLETE], [7,2013-07-25 00:00:00.0,4530,COMPLETE], [8,2013-07-25 00:00:00.0,2911,PROCESSING], [9,2013-07-25 00:00:00.0,5657,PENDING_PAYMENT], [10,2013-07-25 00:00:00.0,5648,PENDING_PAYMENT], [11,2013-07-25 00:00:00.0,918,PAYMENT_REVIEW], [12,2013-07-25 00:00:00.0,1837,CLOSED], [13,2013-07-25 00:00:00.0,9149,PENDING_PAYMENT], [14,2013-07-25 00:00:00.0,9842,PROCESSING], [15,2013-07-25 00:00:00.0,2568,COMPLETE], [16,2013-07-25 00:00:00.0,7276,PENDING_PAYMENT], [17,2013-07-25 00:00:00.0,2667,COMPLETE], [18,20..."
      ]
     },
     "execution_count": 2,
     "metadata": {},
     "output_type": "execute_result"
    }
   ],
   "source": [
    "// checking whether the data has been loaded properly of not\n",
    "products.collect()"
   ]
  },
  {
   "cell_type": "code",
   "execution_count": 3,
   "id": "9f766f7a",
   "metadata": {},
   "outputs": [
    {
     "name": "stdout",
     "output_type": "stream",
     "text": [
      "root\n",
      " |-- order_id: integer (nullable = true)\n",
      " |-- order_date: timestamp (nullable = true)\n",
      " |-- order_customer_id: integer (nullable = true)\n",
      " |-- order_status: string (nullable = true)\n",
      "\n"
     ]
    }
   ],
   "source": [
    "// checking whether the product was same or not\n",
    "products.printSchema()\n"
   ]
  },
  {
   "cell_type": "code",
   "execution_count": 4,
   "id": "b67434eb",
   "metadata": {},
   "outputs": [
    {
     "name": "stdout",
     "output_type": "stream",
     "text": [
      "+--------+---------------+\n",
      "|order_id|   order_status|\n",
      "+--------+---------------+\n",
      "|       1|         CLOSED|\n",
      "|       2|PENDING_PAYMENT|\n",
      "|       3|       COMPLETE|\n",
      "|       4|         CLOSED|\n",
      "|       5|       COMPLETE|\n",
      "|       6|       COMPLETE|\n",
      "|       7|       COMPLETE|\n",
      "|       8|     PROCESSING|\n",
      "|       9|PENDING_PAYMENT|\n",
      "|      10|PENDING_PAYMENT|\n",
      "|      11| PAYMENT_REVIEW|\n",
      "|      12|         CLOSED|\n",
      "|      13|PENDING_PAYMENT|\n",
      "|      14|     PROCESSING|\n",
      "|      15|       COMPLETE|\n",
      "|      16|PENDING_PAYMENT|\n",
      "|      17|       COMPLETE|\n",
      "|      18|         CLOSED|\n",
      "|      19|PENDING_PAYMENT|\n",
      "|      20|     PROCESSING|\n",
      "+--------+---------------+\n",
      "only showing top 20 rows\n",
      "\n"
     ]
    }
   ],
   "source": [
    "// selecting the columns and we can see that data loaded using order_id column is in string\n",
    "products.select(\"order_id\",\"order_status\").show()"
   ]
  },
  {
   "cell_type": "code",
   "execution_count": 5,
   "id": "cbd0113f",
   "metadata": {},
   "outputs": [
    {
     "ename": "Compile Error",
     "evalue": "<console>:28: error: not found: value column\n       products.select(column(\"order_id\")).show()\n                       ^\n",
     "output_type": "error",
     "traceback": []
    }
   ],
   "source": [
    "products.select(column(\"order_id\")).show()"
   ]
  },
  {
   "cell_type": "code",
   "execution_count": 6,
   "id": "aa712307",
   "metadata": {},
   "outputs": [
    {
     "name": "stdout",
     "output_type": "stream",
     "text": [
      "+--------+\n",
      "|order_id|\n",
      "+--------+\n",
      "|       1|\n",
      "|       2|\n",
      "|       3|\n",
      "|       4|\n",
      "|       5|\n",
      "|       6|\n",
      "|       7|\n",
      "|       8|\n",
      "|       9|\n",
      "|      10|\n",
      "|      11|\n",
      "|      12|\n",
      "|      13|\n",
      "|      14|\n",
      "|      15|\n",
      "|      16|\n",
      "|      17|\n",
      "|      18|\n",
      "|      19|\n",
      "|      20|\n",
      "+--------+\n",
      "only showing top 20 rows\n",
      "\n"
     ]
    }
   ],
   "source": [
    "// using a scala specific code\n",
    "products.select('order_id).show()\n"
   ]
  },
  {
   "cell_type": "code",
   "execution_count": 16,
   "id": "3124a0a9",
   "metadata": {},
   "outputs": [
    {
     "name": "stdout",
     "output_type": "stream",
     "text": [
      "+--------+\n",
      "|order_id|\n",
      "+--------+\n",
      "|       1|\n",
      "|       2|\n",
      "|       3|\n",
      "|       4|\n",
      "|       5|\n",
      "|       6|\n",
      "|       7|\n",
      "|       8|\n",
      "|       9|\n",
      "|      10|\n",
      "|      11|\n",
      "|      12|\n",
      "|      13|\n",
      "|      14|\n",
      "|      15|\n",
      "|      16|\n",
      "|      17|\n",
      "|      18|\n",
      "|      19|\n",
      "|      20|\n",
      "+--------+\n",
      "only showing top 20 rows\n",
      "\n"
     ]
    }
   ],
   "source": [
    "// Scala specific codes we can use this only with scala\n",
    "products.select($\"order_id\").show()"
   ]
  },
  {
   "cell_type": "code",
   "execution_count": 9,
   "id": "2d6088f9",
   "metadata": {},
   "outputs": [
    {
     "ename": "Compile Error",
     "evalue": "<console>:31: error: stable identifier required, but this.$line7$read.spark.implicits found.\n       import spark.implicits._\n                    ^\n",
     "output_type": "error",
     "traceback": []
    }
   ],
   "source": [
    "// selecting all columns\n",
    "products.select(\"*\").show()\n",
    "import spark.implicits._"
   ]
  },
  {
   "cell_type": "code",
   "execution_count": 28,
   "id": "4e8c56d3",
   "metadata": {},
   "outputs": [
    {
     "data": {
      "text/plain": [
       "spark1 = org.apache.spark.sql.SparkSession@7b29107\n"
      ]
     },
     "metadata": {},
     "output_type": "display_data",
     "source": "user"
    },
    {
     "data": {
      "text/plain": [
       "org.apache.spark.sql.SparkSession@7b29107"
      ]
     },
     "execution_count": 28,
     "metadata": {},
     "output_type": "execute_result"
    }
   ],
   "source": [
    "val spark1=spark\n",
    "import spark1.implicits._"
   ]
  },
  {
   "cell_type": "code",
   "execution_count": 30,
   "id": "0575ec3d",
   "metadata": {},
   "outputs": [
    {
     "ename": "Unknown Error",
     "evalue": "<console>:33: error: value toDS is not a member of org.apache.spark.sql.DataFrame\n       products.toDS\n                ^\n",
     "output_type": "error",
     "traceback": []
    }
   ],
   "source": [
    "// using the concat function\n",
    "products.select(col(\"order_id\"),concat(col(\"order_status\"),col(\"order_id\"))).show()"
   ]
  },
  {
   "cell_type": "code",
   "execution_count": null,
   "id": "cf6faf07",
   "metadata": {},
   "outputs": [],
   "source": [
    "// using the column object before that you have to import spark.implicits._\n",
    "\n",
    "products.select(concat(col(\"order_id\"),col(\"order_status\"))).show()"
   ]
  }
 ],
 "metadata": {
  "kernelspec": {
   "display_name": "Spark 2 - Scala",
   "language": "scala",
   "name": "spark_2_scala"
  },
  "language_info": {
   "codemirror_mode": "text/x-scala",
   "file_extension": ".scala",
   "mimetype": "text/x-scala",
   "name": "scala",
   "pygments_lexer": "scala",
   "version": "2.11.12"
  }
 },
 "nbformat": 4,
 "nbformat_minor": 5
}
