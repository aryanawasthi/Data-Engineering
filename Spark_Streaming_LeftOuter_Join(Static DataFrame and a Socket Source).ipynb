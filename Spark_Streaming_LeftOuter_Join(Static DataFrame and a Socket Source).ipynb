{
 "cells": [
  {
   "cell_type": "code",
   "execution_count": 1,
   "id": "ed37221a",
   "metadata": {},
   "outputs": [],
   "source": [
    "// Requiring all the Imports\n",
    "import org.apache.spark.streaming.StreamingContext\n",
    "import org.apache.spark.SparkContext\n",
    "import org.apache.spark.streaming.Seconds\n",
    "import org.apache.spark.sql.SparkSession\n",
    "import org.apache.spark.sql.streaming.Trigger\n",
    "import org.apache.spark.sql.functions._\n",
    "import org.apache.spark.sql.expressions.Window._\n",
    "import org.apache.spark.sql.types._\n",
    "\n"
   ]
  },
  {
   "cell_type": "code",
   "execution_count": 2,
   "id": "626b1f74",
   "metadata": {},
   "outputs": [
    {
     "data": {
      "text/plain": [
       "spark = org.apache.spark.sql.SparkSession@4afebaca\n"
      ]
     },
     "metadata": {},
     "output_type": "display_data",
     "source": "user"
    },
    {
     "data": {
      "text/plain": [
       "org.apache.spark.sql.SparkSession@4afebaca"
      ]
     },
     "execution_count": 2,
     "metadata": {},
     "output_type": "execute_result"
    }
   ],
   "source": [
    "// creating a spark Session\n",
    "val spark=SparkSession.builder().master(\"local[2]\").appName(\"Streaming Word Count\")\n",
    ".config(\"spark.streaming.stopgracefullyOnShutdown\",true)\n",
    ".config(\"spark.sql.shuffle.partitions\",3)\n",
    ".config(\"spark.sql.streaming.schemaInterface\",true)\n",
    ".getOrCreate()"
   ]
  },
  {
   "cell_type": "code",
   "execution_count": 3,
   "id": "bd297dea",
   "metadata": {},
   "outputs": [
    {
     "data": {
      "text/plain": [
       "transaction_df = [value: string]\n"
      ]
     },
     "metadata": {},
     "output_type": "display_data",
     "source": "user"
    },
    {
     "data": {
      "text/plain": [
       "[value: string]"
      ]
     },
     "execution_count": 3,
     "metadata": {},
     "output_type": "execute_result"
    }
   ],
   "source": [
    "// reading the data from socket\n",
    "val transaction_df=spark.readStream.format(\"socket\")\n",
    ".option(\"host\",\"localhost\")\n",
    ".option(\"port\",\"1354\")\n",
    ".load()"
   ]
  },
  {
   "cell_type": "code",
   "execution_count": 4,
   "id": "03ee768d",
   "metadata": {},
   "outputs": [
    {
     "data": {
      "text/plain": [
       "transaction_schema = StructType(StructField(card_id,LongType,true), StructField(amount,LongType,true), StructField(postcode,LongType,true), StructField(pos_id,LongType,true), StructField(transection_date,TimestampType,true))\n"
      ]
     },
     "metadata": {},
     "output_type": "display_data",
     "source": "user"
    },
    {
     "data": {
      "text/plain": [
       "StructType(StructField(card_id,LongType,true), StructField(amount,LongType,true), StructField(postcode,LongType,true), StructField(pos_id,LongType,true), StructField(transection_date,TimestampType,true))"
      ]
     },
     "execution_count": 4,
     "metadata": {},
     "output_type": "execute_result"
    }
   ],
   "source": [
    "// derfing the schema of  order_table\n",
    "val transaction_schema=StructType(List(\n",
    "StructField(\"card_id\",LongType),\n",
    "StructField(\"amount\",LongType),\n",
    "StructField(\"postcode\",LongType),\n",
    "StructField(\"pos_id\",LongType),\n",
    "StructField(\"transection_date\",TimestampType)\n",
    "))"
   ]
  },
  {
   "cell_type": "code",
   "execution_count": 5,
   "id": "dfef6e6a",
   "metadata": {},
   "outputs": [
    {
     "name": "stdout",
     "output_type": "stream",
     "text": [
      "root\n",
      " |-- card_id: long (nullable = true)\n",
      " |-- amount: long (nullable = true)\n",
      " |-- postcode: long (nullable = true)\n",
      " |-- pos_id: long (nullable = true)\n",
      " |-- transection_date: timestamp (nullable = true)\n",
      "\n"
     ]
    },
    {
     "data": {
      "text/plain": [
       "transofnew = [value: struct<card_id: bigint, amount: bigint ... 3 more fields>]\n",
       "refined_df = [card_id: bigint, amount: bigint ... 3 more fields]\n"
      ]
     },
     "metadata": {},
     "output_type": "display_data",
     "source": "user"
    },
    {
     "data": {
      "text/plain": [
       "[card_id: bigint, amount: bigint ... 3 more fields]"
      ]
     },
     "execution_count": 5,
     "metadata": {},
     "output_type": "execute_result"
    }
   ],
   "source": [
    "// giviing schema to the order_table\n",
    "val transofnew=transaction_df.select(from_json(col(\"value\"),transaction_schema).alias(\"value\"))\n",
    "// giving the schema to the table as it is under the table\n",
    "val refined_df=transofnew.select(\"value.*\")\n",
    "refined_df.printSchema()\n"
   ]
  },
  {
   "cell_type": "code",
   "execution_count": 7,
   "id": "19104aae",
   "metadata": {},
   "outputs": [
    {
     "name": "stdout",
     "output_type": "stream",
     "text": [
      "root\n",
      " |-- card_id: long (nullable = true)\n",
      " |-- member_id: long (nullable = true)\n",
      " |-- card_issue_date: timestamp (nullable = true)\n",
      " |-- country: string (nullable = true)\n",
      " |-- state: string (nullable = true)\n",
      "\n"
     ]
    },
    {
     "data": {
      "text/plain": [
       "static_df = [card_id: bigint, member_id: bigint ... 3 more fields]\n"
      ]
     },
     "metadata": {},
     "output_type": "display_data",
     "source": "user"
    },
    {
     "data": {
      "text/plain": [
       "[card_id: bigint, member_id: bigint ... 3 more fields]"
      ]
     },
     "execution_count": 7,
     "metadata": {},
     "output_type": "execute_result"
    }
   ],
   "source": [
    "//loading the local file of the data to the HDFS using the command\n",
    "//hadoop fs  -put \"/home/itv003334/transection_id.csv\" \"trans\";\n",
    "val static_df=spark.read.format(\"csv\").option(\"header\",true).option(\"inferSchema\",true).option(\"path\",\"trans\").load()\n",
    "static_df.printSchema()"
   ]
  },
  {
   "cell_type": "code",
   "execution_count": 8,
   "id": "e499a07d",
   "metadata": {},
   "outputs": [
    {
     "data": {
      "text/plain": [
       "joinCondition = (card_id = card_id)\n",
       "joinType = leftouter\n"
      ]
     },
     "metadata": {},
     "output_type": "display_data",
     "source": "user"
    },
    {
     "data": {
      "text/plain": [
       "leftouter"
      ]
     },
     "execution_count": 8,
     "metadata": {},
     "output_type": "execute_result"
    }
   ],
   "source": [
    "// defining the join condition\n",
    "val joinCondition=refined_df.col(\"card_id\")===static_df.col(\"card_id\")\n",
    "val joinType=\"leftouter\""
   ]
  },
  {
   "cell_type": "code",
   "execution_count": 11,
   "id": "7dd7dab5",
   "metadata": {},
   "outputs": [
    {
     "name": "stdout",
     "output_type": "stream",
     "text": [
      "root\n",
      " |-- card_id: long (nullable = true)\n",
      " |-- amount: long (nullable = true)\n",
      " |-- postcode: long (nullable = true)\n",
      " |-- pos_id: long (nullable = true)\n",
      " |-- transection_date: timestamp (nullable = true)\n",
      " |-- card_id: long (nullable = true)\n",
      " |-- member_id: long (nullable = true)\n",
      " |-- card_issue_date: timestamp (nullable = true)\n",
      " |-- country: string (nullable = true)\n",
      " |-- state: string (nullable = true)\n",
      "\n"
     ]
    },
    {
     "data": {
      "text/plain": [
       "joined_data = [card_id: bigint, amount: bigint ... 8 more fields]\n"
      ]
     },
     "metadata": {},
     "output_type": "display_data",
     "source": "user"
    },
    {
     "data": {
      "text/plain": [
       "lastException: Throwable = null\n"
      ]
     },
     "metadata": {},
     "output_type": "display_data",
     "source": "user"
    },
    {
     "data": {
      "text/plain": [
       "[card_id: bigint, amount: bigint ... 8 more fields]"
      ]
     },
     "execution_count": 11,
     "metadata": {},
     "output_type": "execute_result"
    }
   ],
   "source": [
    "// defining the join condition\n",
    "val joined_data=refined_df.join(static_df,joinCondition,joinType)\n",
    "joined_data.printSchema()"
   ]
  },
  {
   "cell_type": "code",
   "execution_count": null,
   "id": "d8795081",
   "metadata": {},
   "outputs": [
    {
     "name": "stdout",
     "output_type": "stream",
     "text": [
      "-------------------------------------------\n",
      "Batch: 0\n",
      "-------------------------------------------\n",
      "+-------+------+--------+------+----------------+-------+---------+---------------+-------+-----+\n",
      "|card_id|amount|postcode|pos_id|transection_date|card_id|member_id|card_issue_date|country|state|\n",
      "+-------+------+--------+------+----------------+-------+---------+---------------+-------+-----+\n",
      "+-------+------+--------+------+----------------+-------+---------+---------------+-------+-----+\n",
      "\n",
      "-------------------------------------------\n",
      "Batch: 1\n",
      "-------------------------------------------\n",
      "+----------------+-------+--------+---------------+----------------+----------------+---------------+-------------------+-------------+--------+\n",
      "|         card_id| amount|postcode|         pos_id|transection_date|         card_id|      member_id|    card_issue_date|      country|   state|\n",
      "+----------------+-------+--------+---------------+----------------+----------------+---------------+-------------------+-------------+--------+\n",
      "|5134334388575160|8241105|   13302|338546916831311|            null|5134334388575160|978465390240911|2012-10-17 11:55:14|United States|Kankakee|\n",
      "|5134334388575160| 180659|   88030|712925555674508|            null|5134334388575160|978465390240911|2012-10-17 11:55:14|United States|Kankakee|\n",
      "|5134334388575160| 568232|   64743| 91157863715349|            null|5134334388575160|978465390240911|2012-10-17 11:55:14|United States|Kankakee|\n",
      "|5134334388575160|3838236|   14008|974950096547483|            null|5134334388575160|978465390240911|2012-10-17 11:55:14|United States|Kankakee|\n",
      "|5134334388575160| 253503|   58501|140134748682132|            null|5134334388575160|978465390240911|2012-10-17 11:55:14|United States|Kankakee|\n",
      "+----------------+-------+--------+---------------+----------------+----------------+---------------+-------------------+-------------+--------+\n",
      "\n",
      "-------------------------------------------\n",
      "Batch: 2\n",
      "-------------------------------------------\n",
      "+----------------+-------+--------+---------------+----------------+----------------+---------------+-------------------+-------------+---------+\n",
      "|         card_id| amount|postcode|         pos_id|transection_date|         card_id|      member_id|    card_issue_date|      country|    state|\n",
      "+----------------+-------+--------+---------------+----------------+----------------+---------------+-------------------+-------------+---------+\n",
      "|5134334388575160| 866874|   60958|671847163136812|            null|5134334388575160|978465390240911|2012-10-17 11:55:14|United States| Kankakee|\n",
      "|5285400498362679|2140506|   25040|762919765568319|            null|5285400498362679|978786807247400|2014-01-08 03:31:52|United States|Fallbrook|\n",
      "|5285400498362679|7982864|   92382|319523249711457|            null|5285400498362679|978786807247400|2014-01-08 03:31:52|United States|Fallbrook|\n",
      "+----------------+-------+--------+---------------+----------------+----------------+---------------+-------------------+-------------+---------+\n",
      "\n",
      "-------------------------------------------\n",
      "Batch: 3\n",
      "-------------------------------------------\n",
      "+----------------+-------+--------+---------------+----------------+----------------+---------------+-------------------+-------------+---------+\n",
      "|         card_id| amount|postcode|         pos_id|transection_date|         card_id|      member_id|    card_issue_date|      country|    state|\n",
      "+----------------+-------+--------+---------------+----------------+----------------+---------------+-------------------+-------------+---------+\n",
      "|5572427538311236|5358617|   41015|970896588019984|            null|5572427538311236|976740397894598|2014-12-15 08:06:58|United States|Tonawanda|\n",
      "+----------------+-------+--------+---------------+----------------+----------------+---------------+-------------------+-------------+---------+\n",
      "\n"
     ]
    }
   ],
   "source": [
    "// collecting the ouput of the stream on the terminal\n",
    "val outputdf=joined_data.writeStream.format(\"console\").outputMode(\"update\")\n",
    ".option(\"checkpointLocation\",\"order_3\")\n",
    ".trigger(Trigger.ProcessingTime(\"15 Seconds\"))\n",
    ".start()\n",
    "outputdf.awaitTermination()"
   ]
  },
  {
   "cell_type": "code",
   "execution_count": null,
   "id": "3ccffbd3",
   "metadata": {},
   "outputs": [],
   "source": []
  }
 ],
 "metadata": {
  "kernelspec": {
   "display_name": "Spark 2 - Scala",
   "language": "scala",
   "name": "spark_2_scala"
  },
  "language_info": {
   "codemirror_mode": "text/x-scala",
   "file_extension": ".scala",
   "mimetype": "text/x-scala",
   "name": "scala",
   "pygments_lexer": "scala",
   "version": "2.11.12"
  }
 },
 "nbformat": 4,
 "nbformat_minor": 5
}
