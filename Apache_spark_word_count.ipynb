{
 "cells": [
  {
   "cell_type": "code",
   "execution_count": 9,
   "id": "16eab9c1",
   "metadata": {},
   "outputs": [
    {
     "data": {
      "text/plain": [
       "raw_data = user_2 MapPartitionsRDD[9] at textFile at <console>:29\n"
      ]
     },
     "metadata": {},
     "output_type": "display_data",
     "source": "user"
    },
    {
     "data": {
      "text/plain": [
       "lastException: Throwable = null\n"
      ]
     },
     "metadata": {},
     "output_type": "display_data",
     "source": "user"
    },
    {
     "data": {
      "text/plain": [
       "Array(best big data hadoop spark training, kelly technologies courses, intellepaat, cloudera training partner india, microsoft certification courses in big data, big data online preparation, BIG DATA COURSE IN DELHI, online data mining certification programs, acadgild, BIG DATA coursera module 1, PYTHON training in chennai, hadoop developer, microsoft big data certification, hadoop training in delhi, big data courses in hyderabad online, computer data course, big data HADOOP training report, DATA analytics course in bangalore, cloudera certified professional, apache hadoop institute in delhi, good apache spark classes, spark interview questions, big data contents, b..."
      ]
     },
     "execution_count": 9,
     "metadata": {},
     "output_type": "execute_result"
    }
   ],
   "source": [
    "val raw_data=sc.textFile(\"user_2\")\n",
    "raw_data.collect"
   ]
  },
  {
   "cell_type": "code",
   "execution_count": 10,
   "id": "fdb83834",
   "metadata": {},
   "outputs": [
    {
     "data": {
      "text/plain": [
       "data = MapPartitionsRDD[10] at flatMap at <console>:27\n"
      ]
     },
     "metadata": {},
     "output_type": "display_data",
     "source": "user"
    },
    {
     "data": {
      "text/plain": [
       "MapPartitionsRDD[10] at flatMap at <console>:27"
      ]
     },
     "execution_count": 10,
     "metadata": {},
     "output_type": "execute_result"
    }
   ],
   "source": [
    "val data=raw_data.flatMap(x=>x.split(\" \"))\n",
    "\n"
   ]
  },
  {
   "cell_type": "code",
   "execution_count": 11,
   "id": "9e5971f0",
   "metadata": {},
   "outputs": [
    {
     "data": {
      "text/plain": [
       "data2 = MapPartitionsRDD[11] at map at <console>:29\n"
      ]
     },
     "metadata": {},
     "output_type": "display_data",
     "source": "user"
    },
    {
     "data": {
      "text/plain": [
       "Array((best,1), (big,1), (data,1), (hadoop,1), (spark,1), (training,1), (kelly,1), (technologies,1), (courses,1), (intellepaat,1), (cloudera,1), (training,1), (partner,1), (india,1), (microsoft,1), (certification,1), (courses,1), (in,1), (big,1), (data,1), (big,1), (data,1), (online,1), (preparation,1), (BIG,1), (DATA,1), (COURSE,1), (IN,1), (DELHI,1), (online,1), (data,1), (mining,1), (certification,1), (programs,1), (acadgild,1), (BIG,1), (DATA,1), (coursera,1), (module,1), (1,1), (PYTHON,1), (training,1), (in,1), (chennai,1), (hadoop,1), (developer,1), (microsoft,1), (big,1), (data,1), (certification,1), (hadoop,1), (training,1), (in,1), (delhi,1), (big,1), (data..."
      ]
     },
     "execution_count": 11,
     "metadata": {},
     "output_type": "execute_result"
    }
   ],
   "source": [
    "val data2=data.map(x=>(x,1))\n",
    "data2.collect"
   ]
  },
  {
   "cell_type": "code",
   "execution_count": 12,
   "id": "e955ab54",
   "metadata": {},
   "outputs": [
    {
     "data": {
      "text/plain": [
       "final_data = ShuffledRDD[12] at reduceByKey at <console>:27\n"
      ]
     },
     "metadata": {},
     "output_type": "display_data",
     "source": "user"
    },
    {
     "data": {
      "text/plain": [
       "ShuffledRDD[12] at reduceByKey at <console>:27"
      ]
     },
     "execution_count": 12,
     "metadata": {},
     "output_type": "execute_result"
    }
   ],
   "source": [
    "val final_data=data2.reduceByKey((x,y)=>x+y)"
   ]
  },
  {
   "cell_type": "code",
   "execution_count": 25,
   "id": "c12c38a0",
   "metadata": {},
   "outputs": [
    {
     "data": {
      "text/plain": [
       "reverse = MapPartitionsRDD[28] at map at <console>:29\n"
      ]
     },
     "metadata": {},
     "output_type": "display_data",
     "source": "user"
    },
    {
     "data": {
      "text/plain": [
       "Array((1,nural), (10,scala), (3,university), (1,under), (2,paper), (1,offer), (1,banglore), (2,guide), (1,edvancer), (8,delhi), (1,intellepat), (4,diploma), (1,ofhadoop), (1,learnbay), (1,line), (1,standbyexception), (1,edition), (1,kit), (1,session), (2,inceptez), (1,behind), (1,orovide), (1,taming), (1,several), (11,analyst), (1,who), (1,willing), (1,cca175), (1,we), (1,linux), (1,minimum), (1,mapreduce), (1,solutions), (1,any), (1,banking), (1,13), (8,fee), (1,offering), (1,select), (1,application), (1,institution), (1,month), (1,motivation), (1,congitive), (1,analytical), (1,rapid), (2,step), (1,books), (2,marketing), (1,answer), (3,technology), (5,me), (1,dat..."
      ]
     },
     "execution_count": 25,
     "metadata": {},
     "output_type": "execute_result"
    }
   ],
   "source": [
    "val reverse=final_data.map(x=>(x._2,x._1))\n",
    "reverse.collect"
   ]
  },
  {
   "cell_type": "code",
   "execution_count": 30,
   "id": "a05368ce",
   "metadata": {},
   "outputs": [
    {
     "data": {
      "text/plain": [
       "sort = ShuffledRDD[40] at sortByKey at <console>:29\n"
      ]
     },
     "metadata": {},
     "output_type": "display_data",
     "source": "user"
    },
    {
     "data": {
      "text/plain": [
       "Array((354,data), (279,big), (169,in), (111,training), (104,course), (96,hadoop), (58,online), (53,courses), (42,spark), (38,bangalore), (35,analytics), (33,hyderabad), (30,for), (29,best), (27,of), (26,certification), (22,and), (21,to), (21,with), (20,chennai), (19,institute), (19,bigdata), (16,india), (15,learn), (15,apache), (15,tutorial), (12,the), (12,is), (12,institutes), (12,learning), (11,placement), (11,edureka), (11,analyst), (11,classes), (10,intellipaat), (10,fees), (10,scala), (10,iit), (9,engineering), (9,engineer), (9,by), (9,coursera), (8,top), (8,which), (8,delhi), (8,fee), (8,from), (8,pune), (8,python), (7,pg), (7,architect), (7,on), (7,program), ..."
      ]
     },
     "execution_count": 30,
     "metadata": {},
     "output_type": "execute_result"
    }
   ],
   "source": [
    "val sort=reverse.sortByKey(false)\n",
    "sort.collect\n"
   ]
  },
  {
   "cell_type": "code",
   "execution_count": 28,
   "id": "70b2c39e",
   "metadata": {},
   "outputs": [
    {
     "data": {
      "text/plain": [
       "Array((zealand,1), (zaloni,1), (yraining,1), (your,1), (you,1), (yellanki,1), (year,1), (www,4), (would,1), (world,1), (workshop,1), (with,21), (willing,1), (wiley,1), (who,1), (which,8), (where,2), (when,2), (what,2), (weeks,1), (weekend,1), (week,2), (websie,1), (web,1), (we,1), (vtu,1), (vourse,1), (volume,2), (visualizing,1), (vidya,1), (very,1), (velachery,1), (vancouver,1), (value,1), (v's,1), (utilized,1), (using,3), (used,1), (use,1), (uppal,1), (upgrad,1), (updates,1), (university,3), (universities,2), (understanding,1), (under,1), (unacademy,1), (uk,2), (udemy,2), (udacity,1), (types,2), (tutorials,1), (tutorial,15), (tutor,1), (true,1), (trivandrum,1), (trining,1), (trending,1), (tranning,1), (trainjng,1), (training,111), (trainin,1), (trainers,1..."
      ]
     },
     "execution_count": 28,
     "metadata": {},
     "output_type": "execute_result"
    }
   ],
   "source": []
  },
  {
   "cell_type": "code",
   "execution_count": null,
   "id": "65a53d22",
   "metadata": {},
   "outputs": [],
   "source": []
  }
 ],
 "metadata": {
  "kernelspec": {
   "display_name": "Spark 2 - Scala",
   "language": "scala",
   "name": "spark_2_scala"
  },
  "language_info": {
   "codemirror_mode": "text/x-scala",
   "file_extension": ".scala",
   "mimetype": "text/x-scala",
   "name": "scala",
   "pygments_lexer": "scala",
   "version": "2.11.12"
  }
 },
 "nbformat": 4,
 "nbformat_minor": 5
}
