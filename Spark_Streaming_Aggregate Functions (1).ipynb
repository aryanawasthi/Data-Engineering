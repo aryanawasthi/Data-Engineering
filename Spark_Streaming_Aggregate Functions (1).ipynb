{
 "cells": [
  {
   "cell_type": "code",
   "execution_count": null,
   "id": "f824ebfe",
   "metadata": {},
   "outputs": [],
   "source": [
    "// Requiring all the Imports\n",
    "import org.apache.spark.streaming.StreamingContext\n",
    "import org.apache.spark.SparkContext\n",
    "import org.apache.spark.streaming.Seconds\n",
    "import org.apache.spark.sql.SparkSession\n",
    "import org.apache.spark.sql.streaming.Trigger\n",
    "import org.apache.spark.sql.functions._\n",
    "import org.apache.spark.sql.expressions.Window._\n",
    "import org.apache.spark.sql.types._\n",
    "\n"
   ]
  },
  {
   "cell_type": "code",
   "execution_count": 3,
   "id": "9588d187",
   "metadata": {},
   "outputs": [
    {
     "data": {
      "text/plain": [
       "spark = org.apache.spark.sql.SparkSession@1f3faccd\n"
      ]
     },
     "metadata": {},
     "output_type": "display_data",
     "source": "user"
    },
    {
     "data": {
      "text/plain": [
       "org.apache.spark.sql.SparkSession@1f3faccd"
      ]
     },
     "execution_count": 3,
     "metadata": {},
     "output_type": "execute_result"
    }
   ],
   "source": [
    "// creating a spark Session\n",
    "val spark=SparkSession.builder().master(\"local[2]\").appName(\"Streaming Word Count\")\n",
    ".config(\"spark.streaming.stopgracefullyOnShutdown\",true)\n",
    ".config(\"spark.sql.shuffle.partitions\",3)\n",
    ".config(\"spark.sql.streaming.schemaInterface\",true)\n",
    ".getOrCreate()"
   ]
  },
  {
   "cell_type": "code",
   "execution_count": 4,
   "id": "1b88522e",
   "metadata": {},
   "outputs": [
    {
     "data": {
      "text/plain": [
       "orderdf = [value: string]\n"
      ]
     },
     "metadata": {},
     "output_type": "display_data",
     "source": "user"
    },
    {
     "data": {
      "text/plain": [
       "[value: string]"
      ]
     },
     "execution_count": 4,
     "metadata": {},
     "output_type": "execute_result"
    }
   ],
   "source": [
    "// reading the data from socket\n",
    "val orderdf=spark.readStream.format(\"socket\")\n",
    ".option(\"host\",\"localhost\")\n",
    ".option(\"port\",\"1334\")\n",
    ".load()"
   ]
  },
  {
   "cell_type": "code",
   "execution_count": 5,
   "id": "28f88f62",
   "metadata": {},
   "outputs": [
    {
     "data": {
      "text/plain": [
       "order_schema = StructType(StructField(order_id,IntegerType,true), StructField(order_date,TimestampType,true), StructField(order_customerid,IntegerType,true), StructField(order_status,StringType,true), StructField(amount,IntegerType,true))\n"
      ]
     },
     "metadata": {},
     "output_type": "display_data",
     "source": "user"
    },
    {
     "data": {
      "text/plain": [
       "StructType(StructField(order_id,IntegerType,true), StructField(order_date,TimestampType,true), StructField(order_customerid,IntegerType,true), StructField(order_status,StringType,true), StructField(amount,IntegerType,true))"
      ]
     },
     "execution_count": 5,
     "metadata": {},
     "output_type": "execute_result"
    }
   ],
   "source": [
    "// derfing the schema of  order_table\n",
    "val order_schema=StructType(List(\n",
    "StructField(\"order_id\",IntegerType),\n",
    "StructField(\"order_date\",TimestampType),\n",
    "StructField(\"order_customerid\",IntegerType),\n",
    "StructField(\"order_status\",StringType),\n",
    "StructField(\"amount\",IntegerType)\n",
    "))"
   ]
  },
  {
   "cell_type": "code",
   "execution_count": 6,
   "id": "a5d2959a",
   "metadata": {},
   "outputs": [
    {
     "name": "stdout",
     "output_type": "stream",
     "text": [
      "root\n",
      " |-- order_id: integer (nullable = true)\n",
      " |-- order_date: timestamp (nullable = true)\n",
      " |-- order_customerid: integer (nullable = true)\n",
      " |-- order_status: string (nullable = true)\n",
      " |-- amount: integer (nullable = true)\n",
      "\n"
     ]
    },
    {
     "data": {
      "text/plain": [
       "orderdfnew = [value: struct<order_id: int, order_date: timestamp ... 3 more fields>]\n",
       "refined_df = [order_id: int, order_date: timestamp ... 3 more fields]\n"
      ]
     },
     "metadata": {},
     "output_type": "display_data",
     "source": "user"
    },
    {
     "data": {
      "text/plain": [
       "[order_id: int, order_date: timestamp ... 3 more fields]"
      ]
     },
     "execution_count": 6,
     "metadata": {},
     "output_type": "execute_result"
    }
   ],
   "source": [
    "// giviing schema to the order_table\n",
    "val orderdfnew=orderdf.select(from_json(col(\"value\"),order_schema).alias(\"value\"))\n",
    "// giving the schema to the table as it is under the table\n",
    "val refined_df=orderdfnew.select(\"value.*\")\n",
    "refined_df.printSchema()\n"
   ]
  },
  {
   "cell_type": "code",
   "execution_count": 7,
   "id": "49f18122",
   "metadata": {},
   "outputs": [
    {
     "data": {
      "text/plain": [
       "windowdf = [window: struct<start: timestamp, end: timestamp>, Total Invoice: bigint]\n"
      ]
     },
     "metadata": {},
     "output_type": "display_data",
     "source": "user"
    },
    {
     "data": {
      "text/plain": [
       "\" input --root\n",
       " //|-- window: struct (nullable = false)\n",
       " //|    |-- start: timestamp (nullable = true)\n",
       " //|    |-- end: timestamp (nullable = true)\n",
       " //|-- Total Invoice: long (nullable = true)\n",
       " \"\n"
      ]
     },
     "metadata": {},
     "output_type": "display_data",
     "source": "user"
    }
   ],
   "source": [
    "val windowdf=refined_df.groupBy(window(col(\"order_date\"),\"15 minute\")).agg(sum(\"amount\").alias(\"Total Invoice\"))\n",
    "\"\"\" input --root \n",
    " //|-- window: struct (nullable = false)\n",
    " //|    |-- start: timestamp (nullable = true)\n",
    " //|    |-- end: timestamp (nullable = true)\n",
    " //|-- Total Invoice: long (nullable = true)\n",
    " \"\"\"\n"
   ]
  },
  {
   "cell_type": "code",
   "execution_count": 8,
   "id": "f0afebe7",
   "metadata": {},
   "outputs": [
    {
     "data": {
      "text/plain": [
       "final_df = [start: timestamp, end: timestamp ... 1 more field]\n"
      ]
     },
     "metadata": {},
     "output_type": "display_data",
     "source": "user"
    },
    {
     "data": {
      "text/plain": [
       "[start: timestamp, end: timestamp ... 1 more field]"
      ]
     },
     "execution_count": 8,
     "metadata": {},
     "output_type": "execute_result"
    }
   ],
   "source": [
    "// colllecting the final_output\n",
    "val final_df=windowdf.select(\"window.start\",\"window.end\",\"Total Invoice\")\n"
   ]
  },
  {
   "cell_type": "code",
   "execution_count": null,
   "id": "031c5890",
   "metadata": {},
   "outputs": [
    {
     "name": "stdout",
     "output_type": "stream",
     "text": [
      "-------------------------------------------\n",
      "Batch: 0\n",
      "-------------------------------------------\n",
      "+-----+---+-------------+\n",
      "|start|end|Total Invoice|\n",
      "+-----+---+-------------+\n",
      "+-----+---+-------------+\n",
      "\n",
      "-------------------------------------------\n",
      "Batch: 1\n",
      "-------------------------------------------\n",
      "+-------------------+-------------------+-------------+\n",
      "|              start|                end|Total Invoice|\n",
      "+-------------------+-------------------+-------------+\n",
      "|2020-03-02 11:00:00|2020-03-02 11:15:00|          200|\n",
      "+-------------------+-------------------+-------------+\n",
      "\n"
     ]
    }
   ],
   "source": [
    "// collecting the ouput of the stream on the terminal\n",
    "val outputdf=final_df.writeStream.format(\"console\").outputMode(\"update\")\n",
    ".option(\"checkpointLocation\",\"order_4\")\n",
    ".trigger(Trigger.ProcessingTime(\"15 Seconds\"))\n",
    ".start()\n",
    "outputdf.awaitTermination()"
   ]
  },
  {
   "cell_type": "code",
   "execution_count": null,
   "id": "64d3b071",
   "metadata": {},
   "outputs": [],
   "source": []
  }
 ],
 "metadata": {
  "kernelspec": {
   "display_name": "Spark 2 - Scala",
   "language": "scala",
   "name": "spark_2_scala"
  },
  "language_info": {
   "codemirror_mode": "text/x-scala",
   "file_extension": ".scala",
   "mimetype": "text/x-scala",
   "name": "scala",
   "pygments_lexer": "scala",
   "version": "2.11.12"
  }
 },
 "nbformat": 4,
 "nbformat_minor": 5
}
