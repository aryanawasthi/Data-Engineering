{
 "cells": [
  {
   "cell_type": "code",
   "execution_count": 1,
   "id": "167cc09c",
   "metadata": {},
   "outputs": [
    {
     "data": {
      "text/plain": [
       "Problem1:Writea spark streaming program to find windspeed less than 11.00 and summary is equal to partly cloudy using file\n",
       "source. The output must be stored in CSV and Json format.\n",
       "Input file: weatherHistory.csv\n"
      ]
     },
     "metadata": {},
     "output_type": "display_data",
     "source": "user"
    }
   ],
   "source": [
    "\"\"\"Problem1:Writea spark streaming program to find windspeed less than 11.00 and summary is equal to partly cloudy using file \n",
    "source. The output must be stored in CSV and Json format.\n",
    "Input file: weatherHistory.csv\"\"\"\n"
   ]
  },
  {
   "cell_type": "code",
   "execution_count": 1,
   "id": "62eea036",
   "metadata": {},
   "outputs": [],
   "source": [
    "// Requiring all the Imports\n",
    "import org.apache.spark.streaming.StreamingContext\n",
    "import org.apache.spark.SparkContext\n",
    "import org.apache.spark.streaming.Seconds\n",
    "import org.apache.spark.sql.SparkSession\n",
    "import org.apache.spark.sql.streaming.Trigger\n",
    "import org.apache.spark.sql.functions._\n",
    "import org.apache.spark.sql.expressions.Window._\n",
    "import org.apache.spark.sql.types._\n",
    "\n"
   ]
  },
  {
   "cell_type": "code",
   "execution_count": 2,
   "id": "2785b243",
   "metadata": {},
   "outputs": [
    {
     "data": {
      "text/plain": [
       "spark = org.apache.spark.sql.SparkSession@32bc344b\n"
      ]
     },
     "metadata": {},
     "output_type": "display_data",
     "source": "user"
    },
    {
     "data": {
      "text/plain": [
       "org.apache.spark.sql.SparkSession@32bc344b"
      ]
     },
     "execution_count": 2,
     "metadata": {},
     "output_type": "execute_result"
    }
   ],
   "source": [
    "// creating a spark Session\n",
    "val spark=SparkSession.builder().master(\"local[2]\").appName(\"Streaming Word Count\")\n",
    ".config(\"spark.streaming.stopgracefullyOnShutdown\",true)\n",
    ".config(\"spark.sql.shuffle.partitions\",3)\n",
    ".config(\"spark.sql.streaming.schemaInterface\",true)\n",
    ".getOrCreate()"
   ]
  },
  {
   "cell_type": "code",
   "execution_count": 4,
   "id": "8b4de4d2",
   "metadata": {},
   "outputs": [
    {
     "data": {
      "text/plain": [
       "schema = StructType(StructField(DateTime,TimestampType,true), StructField(Temperature,FloatType,true), StructField(Humidity,FloatType,true), StructField(Windspeed,FloatType,true), StructField(Pressure,FloatType,true), StructField(Summary,StringType,true))\n"
      ]
     },
     "metadata": {},
     "output_type": "display_data",
     "source": "user"
    },
    {
     "data": {
      "text/plain": [
       "StructType(StructField(DateTime,TimestampType,true), StructField(Temperature,FloatType,true), StructField(Humidity,FloatType,true), StructField(Windspeed,FloatType,true), StructField(Pressure,FloatType,true), StructField(Summary,StringType,true))"
      ]
     },
     "execution_count": 4,
     "metadata": {},
     "output_type": "execute_result"
    }
   ],
   "source": [
    "val schema=StructType(List(\n",
    "StructField(\"DateTime\",TimestampType),\n",
    "StructField(\"Temperature\",FloatType),\n",
    "StructField(\"Humidity\",FloatType),\n",
    "StructField(\"Windspeed\",FloatType),\n",
    "StructField(\"Pressure\",FloatType),\n",
    "StructField(\"Summary\",StringType)\n",
    "))"
   ]
  },
  {
   "cell_type": "code",
   "execution_count": 5,
   "id": "4e253a89",
   "metadata": {},
   "outputs": [
    {
     "data": {
      "text/plain": [
       "datadf = [DateTime: timestamp, Temperature: float ... 4 more fields]\n"
      ]
     },
     "metadata": {},
     "output_type": "display_data",
     "source": "user"
    },
    {
     "data": {
      "text/plain": [
       "[DateTime: timestamp, Temperature: float ... 4 more fields]"
      ]
     },
     "execution_count": 5,
     "metadata": {},
     "output_type": "execute_result"
    }
   ],
   "source": [
    "val datadf=spark.readStream.format(\"csv\").schema(schema).option(\"path\",\"weather_data\").load()\n",
    "datadf.createOrReplaceTempView(\"orders\")"
   ]
  },
  {
   "cell_type": "code",
   "execution_count": 6,
   "id": "687c0fbc",
   "metadata": {},
   "outputs": [
    {
     "name": "stdout",
     "output_type": "stream",
     "text": [
      "root\n",
      " |-- DateTime: timestamp (nullable = true)\n",
      " |-- Temperature: float (nullable = true)\n",
      " |-- Humidity: float (nullable = true)\n",
      " |-- Windspeed: float (nullable = true)\n",
      " |-- Pressure: float (nullable = true)\n",
      " |-- Summary: string (nullable = true)\n",
      "\n"
     ]
    },
    {
     "data": {
      "text/plain": [
       "final_data = [DateTime: timestamp, Temperature: float ... 4 more fields]\n"
      ]
     },
     "metadata": {},
     "output_type": "display_data",
     "source": "user"
    },
    {
     "data": {
      "text/plain": [
       "[DateTime: timestamp, Temperature: float ... 4 more fields]"
      ]
     },
     "execution_count": 6,
     "metadata": {},
     "output_type": "execute_result"
    }
   ],
   "source": [
    "val final_data=spark.sql(\"select * from orders where Humidity<10 and Summary=='Partly Cloudy'\")\n",
    "\n",
    "final_data.printSchema()"
   ]
  },
  {
   "cell_type": "code",
   "execution_count": null,
   "id": "0d971fbe",
   "metadata": {},
   "outputs": [],
   "source": []
  },
  {
   "cell_type": "code",
   "execution_count": null,
   "id": "396741d2",
   "metadata": {},
   "outputs": [],
   "source": []
  }
 ],
 "metadata": {
  "kernelspec": {
   "display_name": "Spark 2 - Scala",
   "language": "scala",
   "name": "spark_2_scala"
  },
  "language_info": {
   "codemirror_mode": "text/x-scala",
   "file_extension": ".scala",
   "mimetype": "text/x-scala",
   "name": "scala",
   "pygments_lexer": "scala",
   "version": "2.11.12"
  }
 },
 "nbformat": 4,
 "nbformat_minor": 5
}
