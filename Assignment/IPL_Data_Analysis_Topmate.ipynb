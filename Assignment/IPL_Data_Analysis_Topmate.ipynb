{
 "cells": [
  {
   "cell_type": "markdown",
   "id": "6b93101e",
   "metadata": {},
   "source": [
    "# \n",
    "Data Columns\n",
    "\n",
    "match_id\n",
    "inning\n",
    "batting_team\n",
    "bowling_team\n",
    "over\n",
    "ball\n",
    "batsman\n",
    "non_striker\n",
    "bowler\n",
    "is_super_over\n",
    "wide_runs\n",
    "bye_runs\n",
    "legbye_runs\n",
    "noball_runs\n",
    "penalty_runs\n",
    "batsman_runs\n",
    "extra_runs\n",
    "total_runs\n",
    "player_dismissed\n",
    "dismissal_kind\n",
    "fielder\n",
    "\n",
    "Ask\n",
    "\n",
    "Create a personal copy of the data to analyze the data to answer the following questions.\n",
    "The choice of tool for analysis is not a restriction\n",
    "\n",
    "Balls per Wicket, Balls per Six, and Runs per Wicket\n",
    "The ratio of total balls to total dots for each batsman\n",
    "Percentage of boundary runs to total runs for each batsman\n",
    "Batsman responsible for the most wins\n",
    "Best Death Over Bowler\n",
    "Most Fifties by Batsmen\n",
    "\n",
    "Expectation\n",
    "Explain your findings to 4 of the 6 questions mentioned above, those who answer all 6 get additional points\n",
    "Visualizations would help, however, just numbers would also do\n",
    "List down your approach to analyzing the given data\n",
    "\n",
    "Brownie Points\n",
    "Any fascinating insight apart from the above-asked question based on the given data \n"
   ]
  },
  {
   "cell_type": "code",
   "execution_count": 278,
   "id": "a448afae",
   "metadata": {},
   "outputs": [],
   "source": [
    "import pandas as pd\n",
    "import numpy as np\n",
    "import matplotlib.pyplot as plt\n"
   ]
  },
  {
   "cell_type": "code",
   "execution_count": null,
   "id": "23d9aa21",
   "metadata": {},
   "outputs": [],
   "source": [
    "!pip install matplotlib"
   ]
  },
  {
   "cell_type": "code",
   "execution_count": 3,
   "id": "77382a99",
   "metadata": {},
   "outputs": [],
   "source": [
    "data_df=pd.read_csv('IPL Data - IPL.csv')\n"
   ]
  },
  {
   "cell_type": "code",
   "execution_count": 5,
   "id": "afe9c7fe",
   "metadata": {},
   "outputs": [
    {
     "data": {
      "text/plain": [
       "Index(['match_id', 'inning', 'batting_team', 'bowling_team', 'over', 'ball',\n",
       "       'batsman', 'non_striker', 'bowler', 'is_super_over', 'wide_runs',\n",
       "       'bye_runs', 'legbye_runs', 'noball_runs', 'penalty_runs',\n",
       "       'batsman_runs', 'extra_runs', 'total_runs', 'player_dismissed',\n",
       "       'dismissal_kind', 'fielder'],\n",
       "      dtype='object')"
      ]
     },
     "execution_count": 5,
     "metadata": {},
     "output_type": "execute_result"
    }
   ],
   "source": [
    "data_df.columns"
   ]
  },
  {
   "cell_type": "code",
   "execution_count": 6,
   "id": "4c69078e",
   "metadata": {},
   "outputs": [],
   "source": [
    "# finding the total valid balls which are finding subtraction of white and no balls from the total balls\n",
    "data_df.replace(0,np.nan,inplace=True)"
   ]
  },
  {
   "cell_type": "code",
   "execution_count": 32,
   "id": "ccca837e",
   "metadata": {},
   "outputs": [
    {
     "data": {
      "text/plain": [
       "235290.0"
      ]
     },
     "execution_count": 32,
     "metadata": {},
     "output_type": "execute_result"
    }
   ],
   "source": [
    "# finding the number of white alls \n",
    "num_white=data_df.wide_runs.count()\n",
    "#finding the number of noballs\n",
    "num_no_balls=data_df.noball_runs.count()\n",
    "# finding the total number of balls\n",
    "total_balls=len(data_df)\n",
    "# finding the total number of valid balls\n",
    "total_valid_balls=total_balls-num_white-num_no_balls\n",
    "# finding the total number of wickets\n",
    "total_wickets=data_df.player_dismissed.count()\n",
    "# finding the total  numbe of sixes assuming that 6 runs can \n",
    "\"\"\"Yes. There is no limit on runs scored by running per ball asper the Law 18 of 'Laws of Cricket'. \n",
    "Also runs due to overthrows are added in batsman's score so 6 or more runs can be scored\n",
    "without ball crossing the boundary.\"\"\"\n",
    "# but we are considering a six as when balls does not touch the ground before reaching the boundary\n",
    "num_sixes=data_df[data_df.total_runs==6].total_runs.count()\n",
    "#  finding the total runs using the sum function\n",
    "total_runs=data_df.total_runs.sum()\n",
    "#Balls per Wicket, Balls per Six, and Runs per Wicket\n",
    "Balls_per_Wicket=total_valid_balls/total_wickets\n",
    "print(\"The Balls per Wicket for IPL data is {:.2f}\".format(Balls_per_Wicket))\n",
    "Balls_per_Six=total_valid_balls/num_sixes\n",
    "print(\"The Balls Per Wicket for the IPL Data is {:.2f} \".format(Balls_per_Six))\n",
    "runs_Per_Wicket=total_runs/total_wickets\n",
    "print(\"The Average runs before a fall of Wicket is {:.2f}\".format(runs_Per_Wicket))\n"
   ]
  },
  {
   "cell_type": "code",
   "execution_count": 45,
   "id": "b7b3b791",
   "metadata": {},
   "outputs": [
    {
     "name": "stdout",
     "output_type": "stream",
     "text": [
      "The Balls per Wicket for IPL data is 19.58\n",
      "The Balls Per Wicket for the IPL Data is 21.23 \n",
      "The Average runs before a fall of Wicket is 26.63\n"
     ]
    }
   ],
   "source": []
  },
  {
   "cell_type": "code",
   "execution_count": 102,
   "id": "07e34709",
   "metadata": {},
   "outputs": [
    {
     "data": {
      "text/plain": [
       "batsman\n",
       "A Ashish Reddy    3.500000\n",
       "A Chandila        2.333333\n",
       "A Chopra          1.875000\n",
       "A Choudhary       5.000000\n",
       "A Dananjaya       2.500000\n",
       "                    ...   \n",
       "YV Takawale       2.056180\n",
       "Yashpal Singh     1.810811\n",
       "Younis Khan       1.750000\n",
       "Yuvraj Singh      2.554398\n",
       "Z Khan            1.985915\n",
       "Name: ball, Length: 516, dtype: float64"
      ]
     },
     "execution_count": 102,
     "metadata": {},
     "output_type": "execute_result"
    }
   ],
   "source": [
    "#2.The ratio of total balls to total dots for each batsman\n",
    "\"\"\"as wide ball and no ball are considered illegal deliveries therfore we will group the dataframe on the batsman\n",
    "and check if the run is scored on that ball and if it is scored then it is not a dot ball\"\"\"\n",
    "\n",
    "data_df.replace(np.nan,0,inplace=True)\n",
    "grouped_data=data_df.groupby('batsman').count()\n",
    "total_balls_Played_Batsman=grouped_data['ball']\n",
    "#to find the balls in which no runs are scores or dot balls\n",
    "new_data=data_df[data_df.total_runs==0]\n",
    "# No of dot Balls\n",
    "dot_Balls_Played_Batsman=new_data.groupby(\"batsman\").count()['ball']\n",
    "total_balls_Played_Batsman\n",
    "Required_ratio=total_balls_Played_Batsman/dot_Balls_Played_Batsman\n",
    "\"\"\"Output \n",
    "  batsman\n",
    "A Ashish Reddy    3.500000\n",
    "A Chandila        2.333333\n",
    "A Chopra          1.875000\n",
    "A Choudhary       5.000000\n",
    "A Dananjaya       2.500000\n",
    "                    ...   \n",
    "YV Takawale       2.056180\n",
    "Yashpal Singh     1.810811\n",
    "Younis Khan       1.750000\n",
    "Yuvraj Singh      2.554398\n",
    "Z Khan            1.98591\"\"\"\n"
   ]
  },
  {
   "cell_type": "code",
   "execution_count": 163,
   "id": "db5c6761",
   "metadata": {},
   "outputs": [
    {
     "data": {
      "text/plain": [
       "batsman\n",
       "A Ashish Reddy     97.47\n",
       "A Chopra          100.00\n",
       "A Choudhary       100.00\n",
       "A Flintoff         88.89\n",
       "A Hales            97.83\n",
       "                   ...  \n",
       "YK Pathan          99.61\n",
       "YV Takawale        96.83\n",
       "Yashpal Singh     100.00\n",
       "Yuvraj Singh       99.66\n",
       "Z Khan            100.00\n",
       "Length: 426, dtype: float64"
      ]
     },
     "execution_count": 163,
     "metadata": {},
     "output_type": "execute_result"
    }
   ],
   "source": [
    "#3. Percentage of boundary runs to total runs for each batsman\n",
    "\n",
    "\"\"\"\" case we will only consider players who have hitted atleast one 4 or 6 in the calcualtion otherwise it will show error\n",
    "as some of the batsman dont hit a boundary\"\"\"\n",
    "\n",
    "total_Runs_By_All_Batsman=data_df.groupby(\"batsman\")[\"batsman_runs\"].sum()   # (516,) it contains 516 batsman\n",
    "# find batsman who have either hit a 4 or 6\n",
    "new_data=data_df[data_df[\"total_runs\"].isin([4,6])]\n",
    "# find the total_runs by batsman\n",
    "total_Runs_By_Batsman=new_data.groupby(\"batsman\")[\"total_runs\"].sum() \n",
    "# find the total runs made by batsman using boundaries\n",
    "runs__By_Boundaries_Batsman=new_data.groupby(\"batsman\")[\"batsman_runs\"].sum() # (426,) have hitted a 4 or 6\n",
    "\n",
    "boundary_Percentage=(runs__By_Boundaries_Batsman/total_Runs_By_Batsman)*100\n",
    "pd.set_option(\"display.precision\",2)\n",
    "boundary_Percentage\n",
    "\"\"\"batsman\n",
    "A Ashish Reddy     97.47\n",
    "A Chopra          100.00\n",
    "A Choudhary       100.00\n",
    "A Flintoff         88.89\n",
    "A Hales            97.83\n",
    "                   ...  \n",
    "YK Pathan          99.61\n",
    "YV Takawale        96.83\n",
    "Yashpal Singh     100.00\n",
    "Yuvraj Singh       99.66\n",
    "Z Khan            100.00\n",
    "Length: 426, dtype: float64\"\"\"\n",
    "\n"
   ]
  },
  {
   "cell_type": "code",
   "execution_count": 240,
   "id": "98801435",
   "metadata": {},
   "outputs": [
    {
     "data": {
      "text/html": [
       "<div>\n",
       "<style scoped>\n",
       "    .dataframe tbody tr th:only-of-type {\n",
       "        vertical-align: middle;\n",
       "    }\n",
       "\n",
       "    .dataframe tbody tr th {\n",
       "        vertical-align: top;\n",
       "    }\n",
       "\n",
       "    .dataframe thead th {\n",
       "        text-align: right;\n",
       "    }\n",
       "</style>\n",
       "<table border=\"1\" class=\"dataframe\">\n",
       "  <thead>\n",
       "    <tr style=\"text-align: right;\">\n",
       "      <th></th>\n",
       "      <th>match_id</th>\n",
       "      <th>inning</th>\n",
       "      <th>batting_team</th>\n",
       "      <th>total_runs</th>\n",
       "      <th>winning_Team</th>\n",
       "    </tr>\n",
       "  </thead>\n",
       "  <tbody>\n",
       "    <tr>\n",
       "      <th>0</th>\n",
       "      <td>1</td>\n",
       "      <td>1</td>\n",
       "      <td>Sunrisers Hyderabad</td>\n",
       "      <td>207</td>\n",
       "      <td>False</td>\n",
       "    </tr>\n",
       "    <tr>\n",
       "      <th>1</th>\n",
       "      <td>1</td>\n",
       "      <td>2</td>\n",
       "      <td>Royal Challengers Bangalore</td>\n",
       "      <td>172</td>\n",
       "      <td>False</td>\n",
       "    </tr>\n",
       "    <tr>\n",
       "      <th>2</th>\n",
       "      <td>2</td>\n",
       "      <td>1</td>\n",
       "      <td>Mumbai Indians</td>\n",
       "      <td>184</td>\n",
       "      <td>True</td>\n",
       "    </tr>\n",
       "    <tr>\n",
       "      <th>3</th>\n",
       "      <td>2</td>\n",
       "      <td>2</td>\n",
       "      <td>Rising Pune Supergiant</td>\n",
       "      <td>187</td>\n",
       "      <td>True</td>\n",
       "    </tr>\n",
       "    <tr>\n",
       "      <th>4</th>\n",
       "      <td>3</td>\n",
       "      <td>1</td>\n",
       "      <td>Gujarat Lions</td>\n",
       "      <td>183</td>\n",
       "      <td>False</td>\n",
       "    </tr>\n",
       "    <tr>\n",
       "      <th>...</th>\n",
       "      <td>...</td>\n",
       "      <td>...</td>\n",
       "      <td>...</td>\n",
       "      <td>...</td>\n",
       "      <td>...</td>\n",
       "    </tr>\n",
       "    <tr>\n",
       "      <th>1523</th>\n",
       "      <td>11413</td>\n",
       "      <td>2</td>\n",
       "      <td>Delhi Capitals</td>\n",
       "      <td>170</td>\n",
       "      <td>False</td>\n",
       "    </tr>\n",
       "    <tr>\n",
       "      <th>1524</th>\n",
       "      <td>11414</td>\n",
       "      <td>1</td>\n",
       "      <td>Delhi Capitals</td>\n",
       "      <td>155</td>\n",
       "      <td>False</td>\n",
       "    </tr>\n",
       "    <tr>\n",
       "      <th>1525</th>\n",
       "      <td>11414</td>\n",
       "      <td>2</td>\n",
       "      <td>Chennai Super Kings</td>\n",
       "      <td>162</td>\n",
       "      <td>True</td>\n",
       "    </tr>\n",
       "    <tr>\n",
       "      <th>1526</th>\n",
       "      <td>11415</td>\n",
       "      <td>1</td>\n",
       "      <td>Mumbai Indians</td>\n",
       "      <td>152</td>\n",
       "      <td>False</td>\n",
       "    </tr>\n",
       "    <tr>\n",
       "      <th>1527</th>\n",
       "      <td>11415</td>\n",
       "      <td>2</td>\n",
       "      <td>Chennai Super Kings</td>\n",
       "      <td>157</td>\n",
       "      <td>True</td>\n",
       "    </tr>\n",
       "  </tbody>\n",
       "</table>\n",
       "<p>1528 rows × 5 columns</p>\n",
       "</div>"
      ],
      "text/plain": [
       "      match_id  inning                 batting_team  total_runs  winning_Team\n",
       "0            1       1          Sunrisers Hyderabad         207         False\n",
       "1            1       2  Royal Challengers Bangalore         172         False\n",
       "2            2       1               Mumbai Indians         184          True\n",
       "3            2       2       Rising Pune Supergiant         187          True\n",
       "4            3       1                Gujarat Lions         183         False\n",
       "...        ...     ...                          ...         ...           ...\n",
       "1523     11413       2               Delhi Capitals         170         False\n",
       "1524     11414       1               Delhi Capitals         155         False\n",
       "1525     11414       2          Chennai Super Kings         162          True\n",
       "1526     11415       1               Mumbai Indians         152         False\n",
       "1527     11415       2          Chennai Super Kings         157          True\n",
       "\n",
       "[1528 rows x 5 columns]"
      ]
     },
     "execution_count": 240,
     "metadata": {},
     "output_type": "execute_result"
    }
   ],
   "source": [
    "#4, Batsman responsible for the most wins\n",
    "\n",
    "# winning condition is that the team which scores more will win the match so we \n",
    "data_teams=data_df.groupby([\"match_id\",\"inning\",\"batting_team\"])[\"total_runs\"].sum().reset_index()\n",
    "data_teams[\"winning_Team\"]=data_teams[\"total_runs\"]>data_teams[\"total_runs\"].shift(1,axis=0)\n",
    "\n",
    "# Comment: I wanted to find the criteria to compare two adjacent rows such as index 0 and index 1 total runs and select the winner an\n",
    "# and on the basis of winner I can group the runs scored on the relative indexes and find out the player who \n",
    "# highest in the matches to find the batsman who contributed to the most wins but I was unable to find the results.\n",
    "                                       "
   ]
  },
  {
   "cell_type": "code",
   "execution_count": 309,
   "id": "9cbe2aa8",
   "metadata": {},
   "outputs": [
    {
     "data": {
      "text/plain": [
       "bowler\n",
       "AC Gilchrist      0.00\n",
       "V Chakravarthy    0.17\n",
       "M Santner         0.33\n",
       "DJ Thornely       0.33\n",
       "SE Bond           0.47\n",
       "                  ... \n",
       "CL White          3.43\n",
       "MG Neser          3.50\n",
       "KM Asif           3.50\n",
       "JR Hopes          3.58\n",
       "VS Malik          4.00\n",
       "Length: 300, dtype: float64"
      ]
     },
     "execution_count": 309,
     "metadata": {},
     "output_type": "execute_result"
    }
   ],
   "source": [
    "# 5.Best Death Over Bowelers\n",
    "# Death Over are known as the \n",
    "death_over_data=data_df[data_df[\"over\"].isin([15,20])]\n",
    "death_over_matches=death_over_data.groupby(\"bowler\")[\"match_id\"].count()\n",
    "death_over_runs_in_matches=death_over_data.groupby(\"bowler\")[\"total_runs\"].sum()\n",
    "death_over_economy=death_over_runs_in_matches/death_over_matches\n",
    "death_over_economy.sort_values(ascending=True)"
   ]
  },
  {
   "cell_type": "code",
   "execution_count": 310,
   "id": "48ce0c31",
   "metadata": {},
   "outputs": [
    {
     "data": {
      "text/plain": [
       "<AxesSubplot: xlabel='batsman'>"
      ]
     },
     "execution_count": 310,
     "metadata": {},
     "output_type": "execute_result"
    },
    {
     "data": {
      "image/png": "[encoded data removed]",
      "text/plain": [
       "<Figure size 640x480 with 1 Axes>"
      ]
     },
     "metadata": {},
     "output_type": "display_data"
    }
   ],
   "source": [
    "#most fifties by  the batsman\n",
    "# if in each match score is greater than 50 then we  count it as 1 so we have to group by match_id and find the sum of batsman runs\n",
    "new_data=data_df.groupby([\"match_id\",\"batsman\"])[\"total_runs\"].sum().reset_index()\n",
    "new_data[\"fifties\"]=new_data.total_runs>50\n",
    "fifties_data=new_data[new_data.fifties]\n",
    "\n",
    "\n",
    "num_Fifties_By_Batsman=fifties_data.groupby(\"batsman\")[\"fifties\"].count().reset_index().sort_values(by=\"fifties\",ascending=False)\n",
    "#num_Boundaies_By_Batsman\n",
    "\n",
    "#new_data\n",
    "num_Fifties_By_Batsman.head(10).plot.bar(x=\"batsman\",y=\"fifties\")\n",
    "\n"
   ]
  },
  {
   "cell_type": "code",
   "execution_count": null,
   "id": "79af3511",
   "metadata": {},
   "outputs": [],
   "source": []
  },
  {
   "cell_type": "code",
   "execution_count": null,
   "id": "335b0cb2",
   "metadata": {},
   "outputs": [],
   "source": []
  }
 ],
 "metadata": {
  "kernelspec": {
   "display_name": "Python 3 (ipykernel)",
   "language": "python",
   "name": "python3"
  },
  "language_info": {
   "codemirror_mode": {
    "name": "ipython",
    "version": 3
   },
   "file_extension": ".py",
   "mimetype": "text/x-python",
   "name": "python",
   "nbconvert_exporter": "python",
   "pygments_lexer": "ipython3",
   "version": "3.10.6"
  }
 },
 "nbformat": 4,
 "nbformat_minor": 5
}
